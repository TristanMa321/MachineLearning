{
 "cells": [
  {
   "cell_type": "code",
   "execution_count": 17,
   "id": "rapid-carry",
   "metadata": {},
   "outputs": [],
   "source": [
    "import sklearn.datasets\n",
    "import sklearn.linear_model\n",
    "import sklearn.model_selection\n",
    "import sklearn.metrics\n",
    "import numpy as np\n",
    "\n",
    "import matplotlib.pyplot as plt \n",
    "%matplotlib inline"
   ]
  },
  {
   "cell_type": "markdown",
   "id": "blond-brake",
   "metadata": {},
   "source": [
    "# Load Data Points (Do not modify the following block)"
   ]
  },
  {
   "cell_type": "code",
   "execution_count": 2,
   "id": "anticipated-marks",
   "metadata": {},
   "outputs": [],
   "source": [
    "digits = sklearn.datasets.load_digits()\n",
    "X = digits.data\n",
    "y = digits.target\n",
    "X_train, X_test, y_train, y_test = sklearn.model_selection.train_test_split(X, y, test_size=0.3, random_state=0)"
   ]
  },
  {
   "cell_type": "markdown",
   "id": "dried-houston",
   "metadata": {},
   "source": [
    "# Perceptron with Scikit Learn\n",
    "### Variable Explanation (Do not change variable names)\n",
    "- 'digits' is a variable containing hand-written dataset in scikit learn\n",
    "- 'X_train' is feature vectors of training dataset\n",
    "- 'y_train' is target labels of training dataset\n",
    "- 'X_test' is feature vectors of test dataset\n",
    "- 'y_test' is target labels of test dataset\n",
    "\n",
    "### Answer the following problems."
   ]
  },
  {
   "cell_type": "markdown",
   "id": "talented-composite",
   "metadata": {},
   "source": [
    "### 1. Print feature names, shape of X_train, shape of X_test"
   ]
  },
  {
   "cell_type": "code",
   "execution_count": 18,
   "id": "former-scene",
   "metadata": {},
   "outputs": [
    {
     "name": "stdout",
     "output_type": "stream",
     "text": [
      "========Feature names=======\n",
      "['pixel_0_0', 'pixel_0_1', 'pixel_0_2', 'pixel_0_3', 'pixel_0_4', 'pixel_0_5', 'pixel_0_6', 'pixel_0_7', 'pixel_1_0', 'pixel_1_1', 'pixel_1_2', 'pixel_1_3', 'pixel_1_4', 'pixel_1_5', 'pixel_1_6', 'pixel_1_7', 'pixel_2_0', 'pixel_2_1', 'pixel_2_2', 'pixel_2_3', 'pixel_2_4', 'pixel_2_5', 'pixel_2_6', 'pixel_2_7', 'pixel_3_0', 'pixel_3_1', 'pixel_3_2', 'pixel_3_3', 'pixel_3_4', 'pixel_3_5', 'pixel_3_6', 'pixel_3_7', 'pixel_4_0', 'pixel_4_1', 'pixel_4_2', 'pixel_4_3', 'pixel_4_4', 'pixel_4_5', 'pixel_4_6', 'pixel_4_7', 'pixel_5_0', 'pixel_5_1', 'pixel_5_2', 'pixel_5_3', 'pixel_5_4', 'pixel_5_5', 'pixel_5_6', 'pixel_5_7', 'pixel_6_0', 'pixel_6_1', 'pixel_6_2', 'pixel_6_3', 'pixel_6_4', 'pixel_6_5', 'pixel_6_6', 'pixel_6_7', 'pixel_7_0', 'pixel_7_1', 'pixel_7_2', 'pixel_7_3', 'pixel_7_4', 'pixel_7_5', 'pixel_7_6', 'pixel_7_7']\n",
      "(1257, 64)\n",
      "(540, 64)\n"
     ]
    }
   ],
   "source": [
    "# TO DO\n",
    "print(\"========Feature names=======\")\n",
    "print(digits.feature_names)\n",
    "print(X_train.shape)\n",
    "print(X_test.shape)"
   ]
  },
  {
   "cell_type": "markdown",
   "id": "dated-eugene",
   "metadata": {},
   "source": [
    "### 2. Print target names, shape of y_train, shape of y_test"
   ]
  },
  {
   "cell_type": "code",
   "execution_count": 19,
   "id": "higher-ballet",
   "metadata": {},
   "outputs": [
    {
     "name": "stdout",
     "output_type": "stream",
     "text": [
      "========Target names========\n",
      "[0 1 2 3 4 5 6 7 8 9]\n",
      "(1257,)\n",
      "(540,)\n"
     ]
    }
   ],
   "source": [
    "# TO DO\n",
    "print(\"========Target names========\")\n",
    "print(digits.target_names)\n",
    "# print target names (hint: digits.target_names)\n",
    "print(y_train.shape)\n",
    "# print shape of y_train\n",
    "print(y_test.shape)\n",
    "# print shape of y_test"
   ]
  },
  {
   "cell_type": "markdown",
   "id": "unnecessary-response",
   "metadata": {},
   "source": [
    "### 3. Create perceptron object using scikit learn with default hyper parameters\n",
    "hint: sklearn.linear_model.Perceptron()"
   ]
  },
  {
   "cell_type": "code",
   "execution_count": 20,
   "id": "distinct-renaissance",
   "metadata": {},
   "outputs": [],
   "source": [
    "# TO DO\n",
    "# Create perceptron object\n",
    "ppn = sklearn.linear_model.Perceptron()"
   ]
  },
  {
   "cell_type": "markdown",
   "id": "dedicated-brain",
   "metadata": {},
   "source": [
    "### 4. Train a perceptron for training dataset\n",
    "hint: .fit(,) "
   ]
  },
  {
   "cell_type": "code",
   "execution_count": 23,
   "id": "placed-opinion",
   "metadata": {},
   "outputs": [
    {
     "data": {
      "text/plain": "Perceptron()"
     },
     "execution_count": 23,
     "metadata": {},
     "output_type": "execute_result"
    }
   ],
   "source": [
    "# TO DO\n",
    "# Train a perceptron object created at Problem 3.\n",
    "ppn.fit(X_train, y_train)"
   ]
  },
  {
   "cell_type": "markdown",
   "id": "spanish-porcelain",
   "metadata": {},
   "source": [
    "### 5. Test the trained perceptron\n",
    "hint: .predict()\n",
    "- store the prediction labels to the variable 'y_pred'\n",
    "- 'y_pred' was initialized as zero vectors and fill 'y_pred' with predicted labels\n",
    "- do not change the variable name, 'y_pred'"
   ]
  },
  {
   "cell_type": "code",
   "execution_count": 24,
   "id": "stuffed-particle",
   "metadata": {},
   "outputs": [],
   "source": [
    "# TO DO\n",
    "# Test the trained perceptron\n",
    "# y_pred = np.zeros_like(y_test)\n",
    "y_pred = ppn.predict(X_test)"
   ]
  },
  {
   "cell_type": "markdown",
   "id": "crazy-respondent",
   "metadata": {},
   "source": [
    "### Print accuracy (do not modify the following block)"
   ]
  },
  {
   "cell_type": "code",
   "execution_count": 25,
   "id": "caroline-acoustic",
   "metadata": {},
   "outputs": [
    {
     "name": "stdout",
     "output_type": "stream",
     "text": [
      "Accuracy: 0.93\n"
     ]
    }
   ],
   "source": [
    "print('Accuracy: %.2f' % sklearn.metrics.accuracy_score(y_test, y_pred))"
   ]
  },
  {
   "cell_type": "markdown",
   "id": "arabic-murder",
   "metadata": {},
   "source": [
    "### 6. Create perceptron object with different hyper parameters\n",
    "- Perceptron object in scikit learn has the following hyper parameters\n",
    "    - penalty=None,\n",
    "    - alpha=0.0001,\n",
    "    - l1_ratio=0.15,\n",
    "    - fit_intercept=True,\n",
    "    - max_iter=1000,\n",
    "    - tol=0.001,\n",
    "    - shuffle=True,\n",
    "    - verbose=0,\n",
    "    - eta0=1.0,\n",
    "    - n_jobs=None,\n",
    "    - random_state=0,\n",
    "    - early_stopping=False,\n",
    "    - validation_fraction=0.1,\n",
    "    - n_iter_no_change=5,\n",
    "    - class_weight=None,\n",
    "    - warm_start=False,\n",
    "- Change at least one hyper parameter such as eta0, penalty, alpha, or max_iter"
   ]
  },
  {
   "cell_type": "code",
   "execution_count": 28,
   "id": "executed-negotiation",
   "metadata": {},
   "outputs": [],
   "source": [
    "# TO DO\n",
    "# Create perceptron object\n",
    "ppn2 = sklearn.linear_model.Perceptron(penalty=\"elasticnet\")"
   ]
  },
  {
   "cell_type": "markdown",
   "id": "magnetic-maine",
   "metadata": {},
   "source": [
    "### 7. Train the perceptron created at Problem 6. and test it\n",
    "hint: .predict()\n",
    "- predict labels for test dataset (X_test)\n",
    "- store the prediction labels of X_test to the variable 'y_pred'\n",
    "- 'y_pred' was initialized as zero vectors and fill 'y_pred' with predicted labels\n",
    "- do not change the variable name, 'y_pred'"
   ]
  },
  {
   "cell_type": "code",
   "execution_count": 29,
   "id": "destroyed-adapter",
   "metadata": {},
   "outputs": [],
   "source": [
    "# TO DO\n",
    "# Train a perceptron object created at Problem 3.\n",
    "# Test the trained perceptron\n",
    "y_pred2 = ppn.predict(X_test)"
   ]
  },
  {
   "cell_type": "markdown",
   "id": "twenty-mistake",
   "metadata": {},
   "source": [
    "### Print accuracy (do not modify the following block)"
   ]
  },
  {
   "cell_type": "code",
   "execution_count": 30,
   "id": "alien-concert",
   "metadata": {
    "scrolled": true
   },
   "outputs": [
    {
     "name": "stdout",
     "output_type": "stream",
     "text": [
      "Accuracy: 0.93\n"
     ]
    }
   ],
   "source": [
    "print('Accuracy: %.2f' % sklearn.metrics.accuracy_score(y_test, y_pred2))"
   ]
  },
  {
   "cell_type": "markdown",
   "metadata": {},
   "source": [
    "### 8. Load iris dataset from scikit learn and train the perceptron"
   ]
  },
  {
   "cell_type": "code",
   "execution_count": 41,
   "metadata": {},
   "outputs": [
    {
     "name": "stdout",
     "output_type": "stream",
     "text": [
      "Accuracy: 0.80\n"
     ]
    }
   ],
   "source": [
    "from sklearn import datasets\n",
    "iris = datasets.load_iris()\n",
    "X = iris.data\n",
    "Y = iris.target\n",
    "X_train, X_test, y_train, y_test = sklearn.model_selection.train_test_split(X, Y, test_size=0.3, random_state=0)\n",
    "ppn3 = sklearn.linear_model.Perceptron()\n",
    "ppn3.fit(X_train, y_train)\n",
    "y_pred3 = ppn3.predict(X_test)\n",
    "print('Accuracy: %.2f' % sklearn.metrics.accuracy_score(y_test, y_pred3))"
   ]
  },
  {
   "cell_type": "markdown",
   "metadata": {},
   "source": [
    "### 9. Load breast cancer dataset from scikit learn, train the perceptron, and change at least one hyperparameter\n",
    "hint: sklearn.datasets.load_breast_cancer()"
   ]
  },
  {
   "cell_type": "code",
   "execution_count": 43,
   "metadata": {},
   "outputs": [
    {
     "name": "stdout",
     "output_type": "stream",
     "text": [
      "Accuracy: 0.90\n"
     ]
    }
   ],
   "source": [
    "cancer = sklearn.datasets.load_breast_cancer()\n",
    "X = cancer.data\n",
    "Y = cancer.target\n",
    "X_train, X_test, y_train, y_test = sklearn.model_selection.train_test_split(X, Y, test_size=0.3, random_state=0)\n",
    "# ppn4 = sklearn.linear_model.Perceptron()\n",
    "# ppn4.fit(X_train, y_train)\n",
    "ppn4 = sklearn.linear_model.Perceptron(penalty=\"elasticnet\")\n",
    "ppn4.fit(X_train, y_train)\n",
    "y_pred2 = ppn4.predict(X_test)\n",
    "print('Accuracy: %.2f' % sklearn.metrics.accuracy_score(y_test, y_pred2))"
   ]
  },
  {
   "cell_type": "markdown",
   "metadata": {},
   "source": [
    "### 10. Load wine dataset from scikit learn, train the perceptron, and change at least one hyperparameter\n",
    "hint: sklearn.datasets.load_wine()"
   ]
  },
  {
   "cell_type": "code",
   "execution_count": 45,
   "metadata": {},
   "outputs": [
    {
     "name": "stdout",
     "output_type": "stream",
     "text": [
      "Accuracy: 0.67\n"
     ]
    }
   ],
   "source": [
    "wine = sklearn.datasets.load_wine()\n",
    "X = wine.data\n",
    "Y = wine.target\n",
    "X_train, X_test, y_train, y_test = sklearn.model_selection.train_test_split(X, Y, test_size=0.3, random_state=0)\n",
    "# ppn4 = sklearn.linear_model.Perceptron()\n",
    "# ppn4.fit(X_train, y_train)\n",
    "ppn5 = sklearn.linear_model.Perceptron(penalty=\"elasticnet\")\n",
    "ppn5.fit(X_train, y_train)\n",
    "y_pred2 = ppn5.predict(X_test)\n",
    "print('Accuracy: %.2f' % sklearn.metrics.accuracy_score(y_test, y_pred2))"
   ]
  }
 ],
 "metadata": {
  "kernelspec": {
   "display_name": "Python 3",
   "language": "python",
   "name": "python3"
  },
  "language_info": {
   "codemirror_mode": {
    "name": "ipython",
    "version": 3
   },
   "file_extension": ".py",
   "mimetype": "text/x-python",
   "name": "python",
   "nbconvert_exporter": "python",
   "pygments_lexer": "ipython3",
   "version": "3.9.2"
  }
 },
 "nbformat": 4,
 "nbformat_minor": 5
}
