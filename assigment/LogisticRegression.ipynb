{
 "cells": [
  {
   "cell_type": "code",
   "execution_count": 20,
   "id": "rapid-carry",
   "metadata": {},
   "outputs": [],
   "source": [
    "import sklearn.datasets\n",
    "import sklearn.linear_model\n",
    "import sklearn.model_selection\n",
    "import sklearn.metrics\n",
    "import numpy as np\n",
    "\n",
    "import matplotlib.pyplot as plt \n",
    "%matplotlib inline"
   ]
  },
  {
   "cell_type": "markdown",
   "metadata": {},
   "source": [
    "# Generate Data Points (Do not modify the following block)"
   ]
  },
  {
   "cell_type": "code",
   "execution_count": 21,
   "metadata": {},
   "outputs": [],
   "source": [
    "xmin, xmax = -5, 5\n",
    "n_samples = 100\n",
    "np.random.seed(0)\n",
    "X = np.random.normal(size=n_samples)\n",
    "y = (X > 0).astype(float)\n",
    "X[X > 0] *= 4\n",
    "X += 0.7 * np.random.normal(size=n_samples)\n",
    "X = X[:, np.newaxis]"
   ]
  },
  {
   "cell_type": "markdown",
   "metadata": {},
   "source": [
    "### 1. Plot data points"
   ]
  },
  {
   "cell_type": "code",
   "execution_count": 22,
   "metadata": {},
   "outputs": [
    {
     "data": {
      "text/plain": "<Figure size 432x288 with 1 Axes>",
      "image/png": "[encoded data removed]"
     },
     "metadata": {
      "needs_background": "light"
     },
     "output_type": "display_data"
    }
   ],
   "source": [
    "plt.scatter(X, y)\n",
    "plt.show()"
   ]
  },
  {
   "cell_type": "markdown",
   "metadata": {},
   "source": [
    "### 2. Create logistic regression object using scikit learn with default hyper parameters\n",
    "hint: sklearn.linear_model.LogisticRegression()"
   ]
  },
  {
   "cell_type": "code",
   "execution_count": 23,
   "metadata": {},
   "outputs": [],
   "source": [
    "logistic_regression = sklearn.linear_model.LogisticRegression()"
   ]
  },
  {
   "cell_type": "markdown",
   "id": "registered-constitution",
   "metadata": {},
   "source": [
    "### 3. Train a logistic regression for training dataset\n",
    "hint: .fit(,) "
   ]
  },
  {
   "cell_type": "code",
   "execution_count": 24,
   "id": "automotive-cooperation",
   "metadata": {},
   "outputs": [
    {
     "data": {
      "text/plain": "LogisticRegression()"
     },
     "execution_count": 24,
     "metadata": {},
     "output_type": "execute_result"
    }
   ],
   "source": [
    "logistic_regression.fit(X, y)"
   ]
  },
  {
   "cell_type": "markdown",
   "id": "sustained-dating",
   "metadata": {},
   "source": [
    "### 4. Compute the predicted probability of the trained logistic regression\n",
    "hint: .predict_proba()\n",
    "- predict labels for test dataset (X_test)\n",
    "- store the predicted probability of X_test to the variable 'y_pred'\n",
    "- 'y_pred' was initialized as zero vectors and fill 'y_pred' with predicted porbabilities\n",
    "- do not change the variable name, 'y_pred'"
   ]
  },
  {
   "cell_type": "code",
   "execution_count": 25,
   "id": "specified-significance",
   "metadata": {},
   "outputs": [],
   "source": [
    "# TO DO\n",
    "X_test = np.linspace([-5], [10], 300)\n",
    "y_pred = logistic_regression.predict_proba(X_test)"
   ]
  },
  {
   "cell_type": "markdown",
   "metadata": {},
   "source": [
    "### 5. Plot predicted probabilities with data points"
   ]
  },
  {
   "cell_type": "code",
   "execution_count": 27,
   "metadata": {},
   "outputs": [
    {
     "name": "stderr",
     "output_type": "stream",
     "text": [
      "No handles with labels found to put in legend.\n"
     ]
    },
    {
     "data": {
      "text/plain": "<Figure size 576x432 with 1 Axes>",
      "image/png": "[encoded data removed]"
     },
     "metadata": {
      "needs_background": "light"
     },
     "output_type": "display_data"
    }
   ],
   "source": [
    "plt.figure(1, figsize=(8, 6))\n",
    "plt.scatter(X, y)\n",
    "plt.plot(X_test, y_pred)\n",
    "plt.ylabel(\"y\")\n",
    "plt.xlabel(\"X\")\n",
    "plt.xticks(range(-5, 10))\n",
    "plt.yticks([0, 0.5, 1])\n",
    "plt.ylim(-0.25, 1.25)\n",
    "plt.xlim(-4, 10)\n",
    "plt.legend()\n",
    "plt.tight_layout()\n",
    "plt.show()"
   ]
  },
  {
   "cell_type": "markdown",
   "id": "blond-brake",
   "metadata": {},
   "source": [
    "# Load Data Points (Do not modify the following block)"
   ]
  },
  {
   "cell_type": "code",
   "execution_count": 28,
   "id": "anticipated-marks",
   "metadata": {},
   "outputs": [],
   "source": [
    "digits = sklearn.datasets.load_digits()\n",
    "X = digits.data\n",
    "y = digits.target\n",
    "X_train, X_test, y_train, y_test = sklearn.model_selection.train_test_split(X, y, test_size=0.3, random_state=0)"
   ]
  },
  {
   "cell_type": "markdown",
   "id": "hollywood-advertising",
   "metadata": {},
   "source": [
    "# Logistic Regression with Scikit Learn\n",
    "### Variable Explanation (Do not change variable names)\n",
    "- 'digits' is a variable containing hand-written dataset in scikit learn\n",
    "- 'X_train' is feature vectors of training dataset\n",
    "- 'y_train' is target labels of training dataset\n",
    "- 'X_test' is feature vectors of test dataset\n",
    "- 'y_test' is target labels of test dataset\n",
    "\n",
    "### Answer the following problems."
   ]
  },
  {
   "cell_type": "markdown",
   "id": "golden-count",
   "metadata": {},
   "source": [
    "### 1. Print feature names, shape of X_train, shape of X_test"
   ]
  },
  {
   "cell_type": "code",
   "execution_count": 29,
   "id": "driven-sector",
   "metadata": {},
   "outputs": [
    {
     "name": "stdout",
     "output_type": "stream",
     "text": [
      "========Feature names=======\n",
      "['pixel_0_0', 'pixel_0_1', 'pixel_0_2', 'pixel_0_3', 'pixel_0_4', 'pixel_0_5', 'pixel_0_6', 'pixel_0_7', 'pixel_1_0', 'pixel_1_1', 'pixel_1_2', 'pixel_1_3', 'pixel_1_4', 'pixel_1_5', 'pixel_1_6', 'pixel_1_7', 'pixel_2_0', 'pixel_2_1', 'pixel_2_2', 'pixel_2_3', 'pixel_2_4', 'pixel_2_5', 'pixel_2_6', 'pixel_2_7', 'pixel_3_0', 'pixel_3_1', 'pixel_3_2', 'pixel_3_3', 'pixel_3_4', 'pixel_3_5', 'pixel_3_6', 'pixel_3_7', 'pixel_4_0', 'pixel_4_1', 'pixel_4_2', 'pixel_4_3', 'pixel_4_4', 'pixel_4_5', 'pixel_4_6', 'pixel_4_7', 'pixel_5_0', 'pixel_5_1', 'pixel_5_2', 'pixel_5_3', 'pixel_5_4', 'pixel_5_5', 'pixel_5_6', 'pixel_5_7', 'pixel_6_0', 'pixel_6_1', 'pixel_6_2', 'pixel_6_3', 'pixel_6_4', 'pixel_6_5', 'pixel_6_6', 'pixel_6_7', 'pixel_7_0', 'pixel_7_1', 'pixel_7_2', 'pixel_7_3', 'pixel_7_4', 'pixel_7_5', 'pixel_7_6', 'pixel_7_7']\n",
      "======Shape of X_train======\n",
      "(1257, 64)\n",
      "=======Shape of X_test======\n",
      "(540, 64)\n"
     ]
    }
   ],
   "source": [
    "print(\"========Feature names=======\")\n",
    "# print feature names (hint: digits.feature_names)\n",
    "print(digits.feature_names)\n",
    "print(\"======Shape of X_train======\")\n",
    "# print shape of X_train\n",
    "print(X_train.shape)\n",
    "print(\"=======Shape of X_test======\")\n",
    "# print shape of X_test\n",
    "print(X_test.shape)"
   ]
  },
  {
   "cell_type": "markdown",
   "id": "material-measurement",
   "metadata": {},
   "source": [
    "### 2. Print target names, shape of y_train, shape of y_test"
   ]
  },
  {
   "cell_type": "code",
   "execution_count": 9,
   "id": "several-bleeding",
   "metadata": {},
   "outputs": [
    {
     "name": "stdout",
     "output_type": "stream",
     "text": [
      "========Target names========\n",
      "======Shape of y_train======\n",
      "=======Shape of y_test======\n"
     ]
    }
   ],
   "source": [
    "# TO DO\n",
    "print(\"========Target names========\")\n",
    "# print target names (hint: digits.target_names)\n",
    "print(\"======Shape of y_train======\")\n",
    "# print shape of y_train\n",
    "print(\"=======Shape of y_test======\")\n",
    "# print shape of y_test"
   ]
  },
  {
   "cell_type": "markdown",
   "id": "obvious-treat",
   "metadata": {},
   "source": [
    "### 3. Create logistic regression object using scikit learn with default hyper parameters\n",
    "hint: sklearn.linear_model.LogisticRegression()"
   ]
  },
  {
   "cell_type": "code",
   "execution_count": 30,
   "id": "binding-forwarding",
   "metadata": {},
   "outputs": [],
   "source": [
    "logistic_regression = sklearn.linear_model.LogisticRegression()"
   ]
  },
  {
   "cell_type": "markdown",
   "id": "registered-constitution",
   "metadata": {},
   "source": [
    "### 4. Train a logistic regression for training dataset\n",
    "hint: .fit(,) "
   ]
  },
  {
   "cell_type": "code",
   "execution_count": 31,
   "id": "automotive-cooperation",
   "metadata": {},
   "outputs": [
    {
     "name": "stderr",
     "output_type": "stream",
     "text": [
      "D:\\codeSoftware\\ANACONDA\\lib\\site-packages\\sklearn\\linear_model\\_logistic.py:763: ConvergenceWarning: lbfgs failed to converge (status=1):\n",
      "STOP: TOTAL NO. of ITERATIONS REACHED LIMIT.\n",
      "\n",
      "Increase the number of iterations (max_iter) or scale the data as shown in:\n",
      "    https://scikit-learn.org/stable/modules/preprocessing.html\n",
      "Please also refer to the documentation for alternative solver options:\n",
      "    https://scikit-learn.org/stable/modules/linear_model.html#logistic-regression\n",
      "  n_iter_i = _check_optimize_result(\n"
     ]
    },
    {
     "data": {
      "text/plain": "LogisticRegression()"
     },
     "execution_count": 31,
     "metadata": {},
     "output_type": "execute_result"
    }
   ],
   "source": [
    "logistic_regression.fit(X, y)"
   ]
  },
  {
   "cell_type": "markdown",
   "id": "sustained-dating",
   "metadata": {},
   "source": [
    "### 5. Test the trained logistic regression\n",
    "hint: .predict()\n",
    "- predict labels for test dataset (X_test)\n",
    "- store the prediction labels of X_test to the variable 'y_pred'\n",
    "- 'y_pred' was initialized as zero vectors and fill 'y_pred' with predicted labels\n",
    "- do not change the variable name, 'y_pred'"
   ]
  },
  {
   "cell_type": "code",
   "execution_count": 32,
   "id": "specified-significance",
   "metadata": {},
   "outputs": [],
   "source": [
    "# TO DO\n",
    "y_pred = logistic_regression.predict(X_test)"
   ]
  },
  {
   "cell_type": "markdown",
   "id": "hungarian-chassis",
   "metadata": {},
   "source": [
    "### Print accuracy (do not modify the following block)"
   ]
  },
  {
   "cell_type": "code",
   "execution_count": 33,
   "id": "essential-basket",
   "metadata": {},
   "outputs": [
    {
     "name": "stdout",
     "output_type": "stream",
     "text": [
      "Accuracy: 1.00\n"
     ]
    }
   ],
   "source": [
    "print('Accuracy: %.2f' % sklearn.metrics.accuracy_score(y_test, y_pred))"
   ]
  },
  {
   "cell_type": "markdown",
   "id": "arabic-murder",
   "metadata": {},
   "source": [
    "### 6. Create logistic regression object with different hyper parameters\n",
    "- Logistic regression object in scikit learn has the following hyper parameters\n",
    "    - penalty='l2',\n",
    "    - dual=False,\n",
    "    - tol=0.0001,\n",
    "    - C=1.0,\n",
    "    - fit_intercept=True,\n",
    "    - intercept_scaling=1,\n",
    "    - class_weight=None,\n",
    "    - random_state=None,\n",
    "    - solver='lbfgs',\n",
    "    - max_iter=100,\n",
    "    - multi_class='auto',\n",
    "    - verbose=0,\n",
    "    - warm_start=False,\n",
    "    - n_jobs=None,\n",
    "    - l1_ratio=None,\n",
    "- Change at least one hyper parameter such as C, penalty, dual, or max_iter"
   ]
  },
  {
   "cell_type": "code",
   "execution_count": 34,
   "id": "executed-negotiation",
   "metadata": {},
   "outputs": [],
   "source": [
    "# TO DO\n",
    "logistic_regression2 = sklearn.linear_model.LogisticRegression(penalty=\"elasticnet\")"
   ]
  },
  {
   "cell_type": "markdown",
   "id": "phantom-counter",
   "metadata": {},
   "source": [
    "### 7. Train the logistic regression created at Problem 6. and test it\n",
    "hint: .predict()\n",
    "- store the prediction labels to the variable 'y_pred2'\n",
    "- 'y_pred2' was initialized as zero vectors and fill 'y_pred2' with predicted labels\n",
    "- do not change the variable name, 'y_pred2'"
   ]
  },
  {
   "cell_type": "code",
   "execution_count": 35,
   "id": "qualified-handy",
   "metadata": {},
   "outputs": [],
   "source": [
    "# TO DO\n",
    "y_pred2 = logistic_regression.predict(X_test)"
   ]
  },
  {
   "cell_type": "markdown",
   "id": "twenty-mistake",
   "metadata": {},
   "source": [
    "### Print accuracy (do not modify the following block)"
   ]
  },
  {
   "cell_type": "code",
   "execution_count": 14,
   "id": "alien-concert",
   "metadata": {
    "scrolled": true
   },
   "outputs": [
    {
     "name": "stdout",
     "output_type": "stream",
     "text": [
      "Accuracy: 0.08\n"
     ]
    }
   ],
   "source": [
    "print('Accuracy: %.2f' % sklearn.metrics.accuracy_score(y_test, y_pred2))"
   ]
  },
  {
   "cell_type": "markdown",
   "metadata": {},
   "source": [
    "### 8. Load iris dataset from scikit learn and train the logistic regression, and change at least one hyperparameter"
   ]
  },
  {
   "cell_type": "code",
   "execution_count": 36,
   "metadata": {},
   "outputs": [
    {
     "name": "stdout",
     "output_type": "stream",
     "text": [
      "Accuracy: 0.78\n"
     ]
    }
   ],
   "source": [
    "iris = sklearn.datasets.load_iris()\n",
    "X = iris.data\n",
    "Y = iris.target\n",
    "X_train, X_test, y_train, y_test = sklearn.model_selection.train_test_split(X, Y, test_size=0.3, random_state=0)\n",
    "# ppn4 = sklearn.linear_model.Perceptron()\n",
    "# ppn4.fit(X_train, y_train)\n",
    "ppn4 = sklearn.linear_model.Perceptron(penalty=\"elasticnet\")\n",
    "ppn4.fit(X_train, y_train)\n",
    "y_pred2 = ppn4.predict(X_test)\n",
    "print('Accuracy: %.2f' % sklearn.metrics.accuracy_score(y_test, y_pred2))"
   ]
  },
  {
   "cell_type": "markdown",
   "metadata": {},
   "source": [
    "### 9. Load breast cancer dataset from scikit learn, train the logistic regression, and change at least one hyperparameter\n",
    "hint: sklearn.datasets.load_breast_cancer()"
   ]
  },
  {
   "cell_type": "code",
   "execution_count": 37,
   "metadata": {},
   "outputs": [
    {
     "name": "stdout",
     "output_type": "stream",
     "text": [
      "Accuracy: 0.90\n"
     ]
    }
   ],
   "source": [
    "cancer = sklearn.datasets.load_breast_cancer()\n",
    "X = cancer.data\n",
    "Y = cancer.target\n",
    "X_train, X_test, y_train, y_test = sklearn.model_selection.train_test_split(X, Y, test_size=0.3, random_state=0)\n",
    "# ppn4 = sklearn.linear_model.Perceptron()\n",
    "# ppn4.fit(X_train, y_train)\n",
    "ppn4 = sklearn.linear_model.Perceptron(penalty=\"elasticnet\")\n",
    "ppn4.fit(X_train, y_train)\n",
    "y_pred2 = ppn4.predict(X_test)\n",
    "print('Accuracy: %.2f' % sklearn.metrics.accuracy_score(y_test, y_pred2))"
   ]
  },
  {
   "cell_type": "markdown",
   "metadata": {},
   "source": [
    "### 10. Load wine dataset from scikit learn, train the logistic regression, and change at least one hyperparameter\n",
    "hint: sklearn.datasets.load_wine()"
   ]
  },
  {
   "cell_type": "code",
   "execution_count": 38,
   "metadata": {},
   "outputs": [
    {
     "name": "stdout",
     "output_type": "stream",
     "text": [
      "Accuracy: 0.67\n"
     ]
    }
   ],
   "source": [
    "wine = sklearn.datasets.load_wine()\n",
    "X = wine.data\n",
    "Y = wine.target\n",
    "X_train, X_test, y_train, y_test = sklearn.model_selection.train_test_split(X, Y, test_size=0.3, random_state=0)\n",
    "# ppn4 = sklearn.linear_model.Perceptron()\n",
    "# ppn4.fit(X_train, y_train)\n",
    "ppn4 = sklearn.linear_model.Perceptron(penalty=\"elasticnet\")\n",
    "ppn4.fit(X_train, y_train)\n",
    "y_pred2 = ppn4.predict(X_test)\n",
    "print('Accuracy: %.2f' % sklearn.metrics.accuracy_score(y_test, y_pred2))\n"
   ]
  }
 ],
 "metadata": {
  "kernelspec": {
   "display_name": "Python 3",
   "language": "python",
   "name": "python3"
  },
  "language_info": {
   "codemirror_mode": {
    "name": "ipython",
    "version": 3
   },
   "file_extension": ".py",
   "mimetype": "text/x-python",
   "name": "python",
   "nbconvert_exporter": "python",
   "pygments_lexer": "ipython3",
   "version": "3.9.2"
  }
 },
 "nbformat": 4,
 "nbformat_minor": 5
}
