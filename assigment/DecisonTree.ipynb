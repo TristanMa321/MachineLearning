{
 "cells": [
  {
   "cell_type": "code",
   "execution_count": 18,
   "id": "rapid-carry",
   "metadata": {},
   "outputs": [],
   "source": [
    "import sklearn.datasets\n",
    "import sklearn.tree\n",
    "import sklearn.model_selection\n",
    "import sklearn.metrics\n",
    "import numpy as np\n",
    "\n",
    "import matplotlib.pyplot as plt \n",
    "%matplotlib inline"
   ]
  },
  {
   "cell_type": "markdown",
   "id": "blond-brake",
   "metadata": {},
   "source": [
    "# Load Data Points (Do not modify the following block)"
   ]
  },
  {
   "cell_type": "code",
   "execution_count": 31,
   "id": "anticipated-marks",
   "metadata": {},
   "outputs": [],
   "source": [
    "iris = sklearn.datasets.load_iris()\n",
    "X = iris.data\n",
    "y = iris.target\n",
    "X_train, X_test, y_train, y_test = sklearn.model_selection.train_test_split(X, y, test_size=0.3, random_state=0)"
   ]
  },
  {
   "cell_type": "markdown",
   "id": "hollywood-advertising",
   "metadata": {},
   "source": [
    "# Decition Tree with Scikit Learn\n",
    "### Variable Explanation (Do not change variable names)\n",
    "- 'iris' is a variable containing iris dataset in scikit learn\n",
    "- 'X_train' is feature vectors of training dataset\n",
    "- 'y_train' is target labels of training dataset\n",
    "- 'X_test' is feature vectors of test dataset\n",
    "- 'y_test' is target labels of test dataset\n",
    "\n",
    "### Answer the following problems."
   ]
  },
  {
   "cell_type": "markdown",
   "id": "golden-count",
   "metadata": {},
   "source": [
    "### 1. Print feature names, shape of X_train, shape of X_test"
   ]
  },
  {
   "cell_type": "code",
   "execution_count": 20,
   "id": "driven-sector",
   "metadata": {},
   "outputs": [
    {
     "name": "stdout",
     "output_type": "stream",
     "text": [
      "========Feature names=======\n",
      "['sepal length (cm)', 'sepal width (cm)', 'petal length (cm)', 'petal width (cm)']\n",
      "======Shape of X_train======\n",
      "(105, 4)\n",
      "=======Shape of X_test======\n",
      "(45, 4)\n"
     ]
    }
   ],
   "source": [
    "print(\"========Feature names=======\")\n",
    "# print feature names (hint: iris.feature_names)\n",
    "print(iris.feature_names)\n",
    "print(\"======Shape of X_train======\")\n",
    "# print shape of X_train\n",
    "print(X_train.shape)\n",
    "print(\"=======Shape of X_test======\")\n",
    "# print shape of X_test\n",
    "print(X_test.shape)"
   ]
  },
  {
   "cell_type": "markdown",
   "id": "material-measurement",
   "metadata": {},
   "source": [
    "### 2. Print target names, shape of y_train, shape of y_test"
   ]
  },
  {
   "cell_type": "code",
   "execution_count": 21,
   "id": "several-bleeding",
   "metadata": {},
   "outputs": [
    {
     "name": "stdout",
     "output_type": "stream",
     "text": [
      "========Target names========\n",
      "['setosa' 'versicolor' 'virginica']\n",
      "======Shape of y_train======\n",
      "(105,)\n",
      "=======Shape of y_test======\n",
      "(45,)\n"
     ]
    }
   ],
   "source": [
    "# TO DO\n",
    "print(\"========Target names========\")\n",
    "# print target names (hint: iris.target_names)\n",
    "print(iris.target_names)\n",
    "print(\"======Shape of y_train======\")\n",
    "# print shape of y_train\n",
    "print(y_train.shape)\n",
    "print(\"=======Shape of y_test======\")\n",
    "# print shape of y_test\n",
    "print(y_test.shape)"
   ]
  },
  {
   "cell_type": "markdown",
   "id": "obvious-treat",
   "metadata": {},
   "source": [
    "### 3. Create deicision tree classification object using scikit learn with default hyper parameters\n",
    "hint: sklearn.tree.DecisionTreeClassifier()"
   ]
  },
  {
   "cell_type": "code",
   "execution_count": 22,
   "id": "binding-forwarding",
   "metadata": {},
   "outputs": [],
   "source": [
    "DecisionTreeClassifier = sklearn.tree.DecisionTreeClassifier()"
   ]
  },
  {
   "cell_type": "markdown",
   "id": "registered-constitution",
   "metadata": {},
   "source": [
    "### 4. Train the decition tree for training dataset\n",
    "hint: .fit(,) "
   ]
  },
  {
   "cell_type": "code",
   "execution_count": 35,
   "id": "automotive-cooperation",
   "metadata": {},
   "outputs": [
    {
     "data": {
      "text/plain": "DecisionTreeClassifier()"
     },
     "execution_count": 35,
     "metadata": {},
     "output_type": "execute_result"
    }
   ],
   "source": [
    "DecisionTreeClassifier.fit(X_train, y_train)"
   ]
  },
  {
   "cell_type": "markdown",
   "id": "sustained-dating",
   "metadata": {},
   "source": [
    "### 5. Test the trained decision tree classification\n",
    "hint: .predict()\n",
    "- predict labels for test dataset (X_test)\n",
    "- store the prediction labels of X_test to the variable 'y_pred'\n",
    "- 'y_pred' was initialized as zero vectors and fill 'y_pred' with predicted labels\n",
    "- do not change the variable name, 'y_pred'"
   ]
  },
  {
   "cell_type": "code",
   "execution_count": 38,
   "outputs": [
    {
     "name": "stdout",
     "output_type": "stream",
     "text": [
      "[2 1 0 2 0 2 0 1 1 1 2 1 1 1 1 0 1 1 0 0 2 1 0 0 2 0 0 1 1 0 2 1 0 2 2 1 0\n",
      " 2 1 1 2 0 2 0 0]\n",
      "[2 1 0 2 0 2 0 1 1 1 2 1 1 1 1 0 1 1 0 0 2 1 0 0 2 0 0 1 1 0 2 1 0 2 2 1 0\n",
      " 1 1 1 2 0 2 0 0]\n"
     ]
    }
   ],
   "source": [
    "# TO DO\n",
    "# X_test = np.linspace([-5], [10], 300)\n",
    "y_pred = DecisionTreeClassifier.predict(X_test)\n",
    "print(y_pred)\n",
    "print(y_test)"
   ],
   "metadata": {
    "collapsed": false
   }
  },
  {
   "cell_type": "markdown",
   "id": "hungarian-chassis",
   "metadata": {},
   "source": [
    "### Print accuracy (do not modify the following block)"
   ]
  },
  {
   "cell_type": "code",
   "execution_count": 36,
   "id": "essential-basket",
   "metadata": {},
   "outputs": [
    {
     "name": "stdout",
     "output_type": "stream",
     "text": [
      "Accuracy: 1.00\n"
     ]
    }
   ],
   "source": [
    "print('Accuracy: %.2f' % sklearn.metrics.accuracy_score(y_test, y_pred))"
   ]
  },
  {
   "cell_type": "markdown",
   "id": "arabic-murder",
   "metadata": {},
   "source": [
    "### 6. Visualize the trained decition tree"
   ]
  },
  {
   "cell_type": "code",
   "execution_count": 39,
   "id": "executed-negotiation",
   "metadata": {},
   "outputs": [
    {
     "data": {
      "text/plain": "<Figure size 864x864 with 1 Axes>",
      "image/png": "[encoded data removed]"
     },
     "metadata": {
      "needs_background": "light"
     },
     "output_type": "display_data"
    }
   ],
   "source": [
    "# TO DO\n",
    "plt.figure(figsize=(12,12))\n",
    "sklearn.tree.plot_tree(DecisionTreeClassifier)\n",
    "plt.show()"
   ]
  },
  {
   "cell_type": "markdown",
   "id": "phantom-counter",
   "metadata": {},
   "source": [
    "### 7. Train a decision tree for wine dataset and test it\n",
    "- load wine dataset in scikit learn (hint:load_wine)\n",
    "- split the dataset into training and test data (7:3 ratio), set random_state to 0\n",
    "- train a decision tree with training dataset\n",
    "- visualize the trained tree\n",
    "- test the trained tree on test dataset\n",
    "- store test labels to the variable 'y_pred2'"
   ]
  },
  {
   "cell_type": "code",
   "execution_count": 41,
   "id": "qualified-handy",
   "metadata": {},
   "outputs": [],
   "source": [
    "# TO DO\n",
    "wine = sklearn.datasets.load_wine()\n",
    "X = wine.data\n",
    "y = wine.target\n",
    "X_train, X_test, y_train, y_test = sklearn.model_selection.train_test_split(X, y, test_size=0.3, random_state=0)\n",
    "dtc = sklearn.tree.DecisionTreeClassifier()\n",
    "dtc.fit(X_train, y_train)\n",
    "y_pred2 = dtc.predict(X_test)"
   ]
  },
  {
   "cell_type": "markdown",
   "id": "twenty-mistake",
   "metadata": {},
   "source": [
    "### Print accuracy (do not modify the following block)"
   ]
  },
  {
   "cell_type": "code",
   "execution_count": 42,
   "id": "alien-concert",
   "metadata": {
    "scrolled": true
   },
   "outputs": [
    {
     "name": "stdout",
     "output_type": "stream",
     "text": [
      "Accuracy: 0.87\n"
     ]
    }
   ],
   "source": [
    "print('Accuracy: %.2f' % sklearn.metrics.accuracy_score(y_test, y_pred2))"
   ]
  },
  {
   "cell_type": "markdown",
   "id": "067ec6c1",
   "metadata": {},
   "source": [
    "### 8. Load wine dataset from scikit learn, train the logistic regression, and change at least one hyperparameter"
   ]
  },
  {
   "cell_type": "code",
   "execution_count": 47,
   "id": "46cd7cba",
   "metadata": {},
   "outputs": [
    {
     "name": "stdout",
     "output_type": "stream",
     "text": [
      "Accuracy: 0.94\n"
     ]
    }
   ],
   "source": [
    "wine = sklearn.datasets.load_wine()\n",
    "X = wine.data\n",
    "y = wine.target\n",
    "X_train, X_test, y_train, y_test = sklearn.model_selection.train_test_split(X, y, test_size=0.3, random_state=0)\n",
    "dtc = sklearn.tree.DecisionTreeClassifier(criterion=\"entropy\")\n",
    "dtc.fit(X_train, y_train)\n",
    "y_pred2 = dtc.predict(X_test)\n",
    "print('Accuracy: %.2f' % sklearn.metrics.accuracy_score(y_test, y_pred2))"
   ]
  },
  {
   "cell_type": "markdown",
   "id": "e0095c32",
   "metadata": {},
   "source": [
    "### 9. Load iris dataset from scikit learn and train the logistic regression, and change at least one hyperparameter"
   ]
  },
  {
   "cell_type": "code",
   "execution_count": 49,
   "id": "ec927373",
   "metadata": {},
   "outputs": [
    {
     "name": "stdout",
     "output_type": "stream",
     "text": [
      "Accuracy: 0.98\n"
     ]
    }
   ],
   "source": [
    "iris = sklearn.datasets.load_iris()\n",
    "X = iris.data\n",
    "y = iris.target\n",
    "X_train, X_test, y_train, y_test = sklearn.model_selection.train_test_split(X, y, test_size=0.3, random_state=0)\n",
    "dtc = sklearn.tree.DecisionTreeClassifier(criterion=\"entropy\")\n",
    "dtc.fit(X_train, y_train)\n",
    "y_pred2 = dtc.predict(X_test)\n",
    "print('Accuracy: %.2f' % sklearn.metrics.accuracy_score(y_test, y_pred2))"
   ]
  },
  {
   "cell_type": "markdown",
   "id": "5abe97f6",
   "metadata": {},
   "source": [
    "### 10. Load breast cancer dataset from scikit learn, train the logistic regression, and change at least one hyperparameter"
   ]
  },
  {
   "cell_type": "code",
   "execution_count": 50,
   "id": "b7d4ffdf",
   "metadata": {},
   "outputs": [
    {
     "name": "stdout",
     "output_type": "stream",
     "text": [
      "Accuracy: 0.97\n"
     ]
    }
   ],
   "source": [
    "cancer = sklearn.datasets.load_breast_cancer()\n",
    "X = cancer.data\n",
    "y = cancer.target\n",
    "X_train, X_test, y_train, y_test = sklearn.model_selection.train_test_split(X, y, test_size=0.3, random_state=0)\n",
    "dtc = sklearn.tree.DecisionTreeClassifier(criterion=\"entropy\")\n",
    "dtc.fit(X_train, y_train)\n",
    "y_pred2 = dtc.predict(X_test)\n",
    "print('Accuracy: %.2f' % sklearn.metrics.accuracy_score(y_test, y_pred2))"
   ]
  }
 ],
 "metadata": {
  "kernelspec": {
   "display_name": "Python 3 (ipykernel)",
   "language": "python",
   "name": "python3"
  },
  "language_info": {
   "codemirror_mode": {
    "name": "ipython",
    "version": 3
   },
   "file_extension": ".py",
   "mimetype": "text/x-python",
   "name": "python",
   "nbconvert_exporter": "python",
   "pygments_lexer": "ipython3",
   "version": "3.9.12"
  }
 },
 "nbformat": 4,
 "nbformat_minor": 5
}
